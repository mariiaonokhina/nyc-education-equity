{
 "cells": [
  {
   "cell_type": "markdown",
   "id": "870fa2da-6dcb-4078-b902-2edcdcd40729",
   "metadata": {},
   "source": [
    "# NYC Education Equity"
   ]
  },
  {
   "cell_type": "markdown",
   "id": "4644d685-8eba-4104-a6b6-fc5813931acf",
   "metadata": {},
   "source": [
    "## Importing libraries for data cleaning and analysis"
   ]
  },
  {
   "cell_type": "code",
   "execution_count": 1,
   "id": "1302dac0-f638-4a7f-b967-142c3968d130",
   "metadata": {},
   "outputs": [],
   "source": [
    "import pandas as pd"
   ]
  },
  {
   "cell_type": "markdown",
   "id": "7452a155-f65b-4bd5-8e8b-3231ed53347d",
   "metadata": {},
   "source": [
    "## English Language Arts (ELA) Test Results from 2013 to 2023\n",
    "Source: NYC Open Data"
   ]
  },
  {
   "cell_type": "code",
   "execution_count": 2,
   "id": "44a24754-cded-4cc0-9c8c-2aa631fabd61",
   "metadata": {},
   "outputs": [],
   "source": [
    "ela_scores = pd.read_csv(\"../data/raw/English_Language_Arts__ELA__Test_Results_2013-2023_20250828.csv\")"
   ]
  },
  {
   "cell_type": "code",
   "execution_count": 3,
   "id": "a82cacd5-6d46-4375-bb20-f57bf8a2679d",
   "metadata": {},
   "outputs": [
    {
     "data": {
      "text/html": [
       "<div>\n",
       "<style scoped>\n",
       "    .dataframe tbody tr th:only-of-type {\n",
       "        vertical-align: middle;\n",
       "    }\n",
       "\n",
       "    .dataframe tbody tr th {\n",
       "        vertical-align: top;\n",
       "    }\n",
       "\n",
       "    .dataframe thead th {\n",
       "        text-align: right;\n",
       "    }\n",
       "</style>\n",
       "<table border=\"1\" class=\"dataframe\">\n",
       "  <thead>\n",
       "    <tr style=\"text-align: right;\">\n",
       "      <th></th>\n",
       "      <th>Report Category</th>\n",
       "      <th>Geographic Subdivision</th>\n",
       "      <th>School Name</th>\n",
       "      <th>Grade</th>\n",
       "      <th>Year</th>\n",
       "      <th>Student Category</th>\n",
       "      <th>Number Tested</th>\n",
       "      <th>Mean Scale Score</th>\n",
       "      <th>Num Level 1</th>\n",
       "      <th>Pct Level 1</th>\n",
       "      <th>Num Level 2</th>\n",
       "      <th>Pct Level 2</th>\n",
       "      <th>Num Level 3</th>\n",
       "      <th>Pct Level 3</th>\n",
       "      <th>Num Level 4</th>\n",
       "      <th>Pct Level 4</th>\n",
       "      <th>Num Level 3 and 4</th>\n",
       "      <th>Pct Level 3 and 4</th>\n",
       "    </tr>\n",
       "  </thead>\n",
       "  <tbody>\n",
       "    <tr>\n",
       "      <th>0</th>\n",
       "      <td>Citywide</td>\n",
       "      <td>Citywide</td>\n",
       "      <td>NaN</td>\n",
       "      <td>3</td>\n",
       "      <td>2023</td>\n",
       "      <td>All Students</td>\n",
       "      <td>49453</td>\n",
       "      <td>447</td>\n",
       "      <td>14225</td>\n",
       "      <td>28.8</td>\n",
       "      <td>11486</td>\n",
       "      <td>23.2</td>\n",
       "      <td>14154</td>\n",
       "      <td>28.6</td>\n",
       "      <td>9588</td>\n",
       "      <td>19.4</td>\n",
       "      <td>23742</td>\n",
       "      <td>48.0</td>\n",
       "    </tr>\n",
       "    <tr>\n",
       "      <th>1</th>\n",
       "      <td>Citywide</td>\n",
       "      <td>Citywide</td>\n",
       "      <td>NaN</td>\n",
       "      <td>4</td>\n",
       "      <td>2023</td>\n",
       "      <td>All Students</td>\n",
       "      <td>51008</td>\n",
       "      <td>450</td>\n",
       "      <td>10679</td>\n",
       "      <td>20.9</td>\n",
       "      <td>13530</td>\n",
       "      <td>26.5</td>\n",
       "      <td>14788</td>\n",
       "      <td>29.0</td>\n",
       "      <td>12011</td>\n",
       "      <td>23.5</td>\n",
       "      <td>26799</td>\n",
       "      <td>52.5</td>\n",
       "    </tr>\n",
       "    <tr>\n",
       "      <th>2</th>\n",
       "      <td>Citywide</td>\n",
       "      <td>Citywide</td>\n",
       "      <td>NaN</td>\n",
       "      <td>5</td>\n",
       "      <td>2023</td>\n",
       "      <td>All Students</td>\n",
       "      <td>53235</td>\n",
       "      <td>449</td>\n",
       "      <td>12486</td>\n",
       "      <td>23.5</td>\n",
       "      <td>14190</td>\n",
       "      <td>26.7</td>\n",
       "      <td>16717</td>\n",
       "      <td>31.4</td>\n",
       "      <td>9842</td>\n",
       "      <td>18.5</td>\n",
       "      <td>26559</td>\n",
       "      <td>49.9</td>\n",
       "    </tr>\n",
       "    <tr>\n",
       "      <th>3</th>\n",
       "      <td>Citywide</td>\n",
       "      <td>Citywide</td>\n",
       "      <td>NaN</td>\n",
       "      <td>6</td>\n",
       "      <td>2023</td>\n",
       "      <td>All Students</td>\n",
       "      <td>51996</td>\n",
       "      <td>447</td>\n",
       "      <td>13237</td>\n",
       "      <td>25.5</td>\n",
       "      <td>13882</td>\n",
       "      <td>26.7</td>\n",
       "      <td>13709</td>\n",
       "      <td>26.4</td>\n",
       "      <td>11168</td>\n",
       "      <td>21.5</td>\n",
       "      <td>24877</td>\n",
       "      <td>47.8</td>\n",
       "    </tr>\n",
       "    <tr>\n",
       "      <th>4</th>\n",
       "      <td>Citywide</td>\n",
       "      <td>Citywide</td>\n",
       "      <td>NaN</td>\n",
       "      <td>7</td>\n",
       "      <td>2023</td>\n",
       "      <td>All Students</td>\n",
       "      <td>53472</td>\n",
       "      <td>450</td>\n",
       "      <td>12976</td>\n",
       "      <td>24.3</td>\n",
       "      <td>12860</td>\n",
       "      <td>24.0</td>\n",
       "      <td>15838</td>\n",
       "      <td>29.6</td>\n",
       "      <td>11798</td>\n",
       "      <td>22.1</td>\n",
       "      <td>27636</td>\n",
       "      <td>51.7</td>\n",
       "    </tr>\n",
       "  </tbody>\n",
       "</table>\n",
       "</div>"
      ],
      "text/plain": [
       "  Report Category Geographic Subdivision School Name Grade  Year  \\\n",
       "0        Citywide               Citywide         NaN     3  2023   \n",
       "1        Citywide               Citywide         NaN     4  2023   \n",
       "2        Citywide               Citywide         NaN     5  2023   \n",
       "3        Citywide               Citywide         NaN     6  2023   \n",
       "4        Citywide               Citywide         NaN     7  2023   \n",
       "\n",
       "  Student Category  Number Tested Mean Scale Score Num Level 1 Pct Level 1  \\\n",
       "0     All Students          49453              447       14225        28.8   \n",
       "1     All Students          51008              450       10679        20.9   \n",
       "2     All Students          53235              449       12486        23.5   \n",
       "3     All Students          51996              447       13237        25.5   \n",
       "4     All Students          53472              450       12976        24.3   \n",
       "\n",
       "  Num Level 2 Pct Level 2 Num Level 3 Pct Level 3 Num Level 4 Pct Level 4  \\\n",
       "0       11486        23.2       14154        28.6        9588        19.4   \n",
       "1       13530        26.5       14788        29.0       12011        23.5   \n",
       "2       14190        26.7       16717        31.4        9842        18.5   \n",
       "3       13882        26.7       13709        26.4       11168        21.5   \n",
       "4       12860        24.0       15838        29.6       11798        22.1   \n",
       "\n",
       "  Num Level 3 and 4 Pct Level 3 and 4  \n",
       "0             23742              48.0  \n",
       "1             26799              52.5  \n",
       "2             26559              49.9  \n",
       "3             24877              47.8  \n",
       "4             27636              51.7  "
      ]
     },
     "execution_count": 3,
     "metadata": {},
     "output_type": "execute_result"
    }
   ],
   "source": [
    "ela_scores.head()"
   ]
  },
  {
   "cell_type": "code",
   "execution_count": 4,
   "id": "74107f66-06dc-4ab6-acb0-ff6825c1a497",
   "metadata": {},
   "outputs": [
    {
     "name": "stdout",
     "output_type": "stream",
     "text": [
      "<class 'pandas.core.frame.DataFrame'>\n",
      "RangeIndex: 626462 entries, 0 to 626461\n",
      "Data columns (total 18 columns):\n",
      " #   Column                  Non-Null Count   Dtype \n",
      "---  ------                  --------------   ----- \n",
      " 0   Report Category         626462 non-null  object\n",
      " 1   Geographic Subdivision  626462 non-null  object\n",
      " 2   School Name             588222 non-null  object\n",
      " 3   Grade                   626462 non-null  object\n",
      " 4   Year                    626462 non-null  int64 \n",
      " 5   Student Category        626462 non-null  object\n",
      " 6   Number Tested           626462 non-null  int64 \n",
      " 7   Mean Scale Score        626462 non-null  object\n",
      " 8   Num Level 1             626462 non-null  object\n",
      " 9   Pct Level 1             626462 non-null  object\n",
      " 10  Num Level 2             626462 non-null  object\n",
      " 11  Pct Level 2             626462 non-null  object\n",
      " 12  Num Level 3             626462 non-null  object\n",
      " 13  Pct Level 3             626462 non-null  object\n",
      " 14  Num Level 4             626462 non-null  object\n",
      " 15  Pct Level 4             626462 non-null  object\n",
      " 16  Num Level 3 and 4       626462 non-null  object\n",
      " 17  Pct Level 3 and 4       626462 non-null  object\n",
      "dtypes: int64(2), object(16)\n",
      "memory usage: 86.0+ MB\n"
     ]
    }
   ],
   "source": [
    "ela_scores.info()"
   ]
  },
  {
   "cell_type": "markdown",
   "id": "c67f6898-f0c8-4b92-91ae-f4b2920f1a34",
   "metadata": {},
   "source": [
    "All categories except \"School Name\" are filled with non-null values. Since we are attempting to analyze school-specific data, we will drop the rows containing null values."
   ]
  },
  {
   "cell_type": "code",
   "execution_count": 5,
   "id": "a63e08a4-987d-4718-b3e0-8d840b098e74",
   "metadata": {},
   "outputs": [],
   "source": [
    "ela_scores = ela_scores.dropna()"
   ]
  },
  {
   "cell_type": "code",
   "execution_count": 6,
   "id": "258d3c0f-237c-4e0b-a5bc-03059c63726a",
   "metadata": {},
   "outputs": [
    {
     "name": "stdout",
     "output_type": "stream",
     "text": [
      "<class 'pandas.core.frame.DataFrame'>\n",
      "Index: 588222 entries, 46 to 626461\n",
      "Data columns (total 18 columns):\n",
      " #   Column                  Non-Null Count   Dtype \n",
      "---  ------                  --------------   ----- \n",
      " 0   Report Category         588222 non-null  object\n",
      " 1   Geographic Subdivision  588222 non-null  object\n",
      " 2   School Name             588222 non-null  object\n",
      " 3   Grade                   588222 non-null  object\n",
      " 4   Year                    588222 non-null  int64 \n",
      " 5   Student Category        588222 non-null  object\n",
      " 6   Number Tested           588222 non-null  int64 \n",
      " 7   Mean Scale Score        588222 non-null  object\n",
      " 8   Num Level 1             588222 non-null  object\n",
      " 9   Pct Level 1             588222 non-null  object\n",
      " 10  Num Level 2             588222 non-null  object\n",
      " 11  Pct Level 2             588222 non-null  object\n",
      " 12  Num Level 3             588222 non-null  object\n",
      " 13  Pct Level 3             588222 non-null  object\n",
      " 14  Num Level 4             588222 non-null  object\n",
      " 15  Pct Level 4             588222 non-null  object\n",
      " 16  Num Level 3 and 4       588222 non-null  object\n",
      " 17  Pct Level 3 and 4       588222 non-null  object\n",
      "dtypes: int64(2), object(16)\n",
      "memory usage: 85.3+ MB\n"
     ]
    }
   ],
   "source": [
    "ela_scores.info()"
   ]
  },
  {
   "cell_type": "markdown",
   "id": "03e8d53b-5ad8-46da-b2bb-21b701fe4f7b",
   "metadata": {},
   "source": [
    "For the ELA Test Scores data, we have 588,222 rows with non-null values. Next, we will drop columns that we won't be using for our analysis, for example, the report category, number and percentage levels."
   ]
  },
  {
   "cell_type": "code",
   "execution_count": 7,
   "id": "423b8f66-e9b4-40cf-a9e0-50361a804984",
   "metadata": {},
   "outputs": [],
   "source": [
    "ela_scores = ela_scores.drop(columns=[\"Report Category\", \n",
    "                                      \"Geographic Subdivision\", \n",
    "                                      \"Grade\",\n",
    "                                      \"Num Level 1\", \n",
    "                                      \"Pct Level 1\",\n",
    "                                      \"Num Level 2\", \n",
    "                                      \"Pct Level 2\",\n",
    "                                      \"Num Level 3\", \n",
    "                                      \"Pct Level 3\",\n",
    "                                      \"Num Level 4\", \n",
    "                                      \"Pct Level 4\",\n",
    "                                      \"Num Level 3 and 4\", \n",
    "                                      \"Pct Level 3 and 4\",\n",
    "                                     ])"
   ]
  },
  {
   "cell_type": "code",
   "execution_count": 8,
   "id": "1badfd0f-343b-4c5e-8b23-562b4c25b6c0",
   "metadata": {},
   "outputs": [
    {
     "data": {
      "text/html": [
       "<div>\n",
       "<style scoped>\n",
       "    .dataframe tbody tr th:only-of-type {\n",
       "        vertical-align: middle;\n",
       "    }\n",
       "\n",
       "    .dataframe tbody tr th {\n",
       "        vertical-align: top;\n",
       "    }\n",
       "\n",
       "    .dataframe thead th {\n",
       "        text-align: right;\n",
       "    }\n",
       "</style>\n",
       "<table border=\"1\" class=\"dataframe\">\n",
       "  <thead>\n",
       "    <tr style=\"text-align: right;\">\n",
       "      <th></th>\n",
       "      <th>School Name</th>\n",
       "      <th>Year</th>\n",
       "      <th>Student Category</th>\n",
       "      <th>Number Tested</th>\n",
       "      <th>Mean Scale Score</th>\n",
       "    </tr>\n",
       "  </thead>\n",
       "  <tbody>\n",
       "    <tr>\n",
       "      <th>626457</th>\n",
       "      <td>EVERGREEN MIDDLE SCHOOL FOR URBAN EXPLORATION</td>\n",
       "      <td>2014</td>\n",
       "      <td>SWD</td>\n",
       "      <td>45</td>\n",
       "      <td>256</td>\n",
       "    </tr>\n",
       "    <tr>\n",
       "      <th>626458</th>\n",
       "      <td>EVERGREEN MIDDLE SCHOOL FOR URBAN EXPLORATION</td>\n",
       "      <td>2013</td>\n",
       "      <td>Not SWD</td>\n",
       "      <td>110</td>\n",
       "      <td>278</td>\n",
       "    </tr>\n",
       "    <tr>\n",
       "      <th>626459</th>\n",
       "      <td>EVERGREEN MIDDLE SCHOOL FOR URBAN EXPLORATION</td>\n",
       "      <td>2013</td>\n",
       "      <td>SWD</td>\n",
       "      <td>33</td>\n",
       "      <td>256</td>\n",
       "    </tr>\n",
       "    <tr>\n",
       "      <th>626460</th>\n",
       "      <td>EVERGREEN MIDDLE SCHOOL FOR URBAN EXPLORATION</td>\n",
       "      <td>2013</td>\n",
       "      <td>Not SWD</td>\n",
       "      <td>110</td>\n",
       "      <td>278</td>\n",
       "    </tr>\n",
       "    <tr>\n",
       "      <th>626461</th>\n",
       "      <td>EVERGREEN MIDDLE SCHOOL FOR URBAN EXPLORATION</td>\n",
       "      <td>2013</td>\n",
       "      <td>SWD</td>\n",
       "      <td>33</td>\n",
       "      <td>256</td>\n",
       "    </tr>\n",
       "  </tbody>\n",
       "</table>\n",
       "</div>"
      ],
      "text/plain": [
       "                                          School Name  Year Student Category  \\\n",
       "626457  EVERGREEN MIDDLE SCHOOL FOR URBAN EXPLORATION  2014              SWD   \n",
       "626458  EVERGREEN MIDDLE SCHOOL FOR URBAN EXPLORATION  2013          Not SWD   \n",
       "626459  EVERGREEN MIDDLE SCHOOL FOR URBAN EXPLORATION  2013              SWD   \n",
       "626460  EVERGREEN MIDDLE SCHOOL FOR URBAN EXPLORATION  2013          Not SWD   \n",
       "626461  EVERGREEN MIDDLE SCHOOL FOR URBAN EXPLORATION  2013              SWD   \n",
       "\n",
       "        Number Tested Mean Scale Score  \n",
       "626457             45              256  \n",
       "626458            110              278  \n",
       "626459             33              256  \n",
       "626460            110              278  \n",
       "626461             33              256  "
      ]
     },
     "execution_count": 8,
     "metadata": {},
     "output_type": "execute_result"
    }
   ],
   "source": [
    "ela_scores.tail()"
   ]
  },
  {
   "cell_type": "code",
   "execution_count": 9,
   "id": "133caac8-a9de-4534-9642-3abd06e87f3f",
   "metadata": {},
   "outputs": [
    {
     "data": {
      "text/plain": [
       "array(['s', 's', 's', ..., '256', '278', '256'],\n",
       "      shape=(588222,), dtype=object)"
      ]
     },
     "execution_count": 9,
     "metadata": {},
     "output_type": "execute_result"
    }
   ],
   "source": [
    "ela_scores[\"Mean Scale Score\"].values"
   ]
  },
  {
   "cell_type": "markdown",
   "id": "7e5088ee-439d-4a64-9e6a-47c8d98ee284",
   "metadata": {},
   "source": [
    "At this point, we can see **several problems** with the dataset.\n",
    "1. The \"Mean Scale Score\" row contains non-number values like 's'. Such rows should be removed from the analysis. \n",
    "\n",
    "2. Since the dataset contains ELA test scores from 2013 to 2023, each school repeats up to 11 times. We need to find the mean score for each school across the scores from 2013 and 2023 and aggregate it into a single row."
   ]
  },
  {
   "cell_type": "code",
   "execution_count": 10,
   "id": "9ad944a7-4c46-4e67-9270-49455c4de0e7",
   "metadata": {},
   "outputs": [],
   "source": [
    "# Convert column to numeric, invalid entries become NaN\n",
    "ela_scores[\"Mean Scale Score\"] = pd.to_numeric(ela_scores[\"Mean Scale Score\"], errors=\"coerce\")\n",
    "\n",
    "ela_scores = ela_scores.dropna()"
   ]
  },
  {
   "cell_type": "code",
   "execution_count": 16,
   "id": "5e12c909-93fb-4184-9bd5-d92f09e298e6",
   "metadata": {},
   "outputs": [],
   "source": [
    "ela_scores = ela_scores.groupby(\"School Name\", as_index=True).agg({\n",
    "    \"Number Tested\": \"sum\",\n",
    "    \"Mean Scale Score\": \"mean\"\n",
    "})"
   ]
  },
  {
   "cell_type": "code",
   "execution_count": 17,
   "id": "7e2436be-a348-475c-a473-a26c9018f3ba",
   "metadata": {},
   "outputs": [
    {
     "data": {
      "text/html": [
       "<div>\n",
       "<style scoped>\n",
       "    .dataframe tbody tr th:only-of-type {\n",
       "        vertical-align: middle;\n",
       "    }\n",
       "\n",
       "    .dataframe tbody tr th {\n",
       "        vertical-align: top;\n",
       "    }\n",
       "\n",
       "    .dataframe thead th {\n",
       "        text-align: right;\n",
       "    }\n",
       "</style>\n",
       "<table border=\"1\" class=\"dataframe\">\n",
       "  <thead>\n",
       "    <tr style=\"text-align: right;\">\n",
       "      <th></th>\n",
       "      <th>Number Tested</th>\n",
       "      <th>Mean Scale Score</th>\n",
       "    </tr>\n",
       "    <tr>\n",
       "      <th>School Name</th>\n",
       "      <th></th>\n",
       "      <th></th>\n",
       "    </tr>\n",
       "  </thead>\n",
       "  <tbody>\n",
       "    <tr>\n",
       "      <th>A.C.E. ACADEMY FOR SCHOLARS AT THE GERALDINE FERRA</th>\n",
       "      <td>17057</td>\n",
       "      <td>459.882911</td>\n",
       "    </tr>\n",
       "    <tr>\n",
       "      <th>ACADEMY FOR COLLEGE PREPARATION AND CAREER EXPLORA</th>\n",
       "      <td>11024</td>\n",
       "      <td>422.003663</td>\n",
       "    </tr>\n",
       "    <tr>\n",
       "      <th>ACADEMY FOR NEW AMERICANS</th>\n",
       "      <td>3849</td>\n",
       "      <td>352.265306</td>\n",
       "    </tr>\n",
       "    <tr>\n",
       "      <th>ACADEMY FOR PERSONAL LEADERSHIP AND EXCELLENCE</th>\n",
       "      <td>47214</td>\n",
       "      <td>416.742424</td>\n",
       "    </tr>\n",
       "    <tr>\n",
       "      <th>ACADEMY FOR YOUNG WRITERS</th>\n",
       "      <td>13029</td>\n",
       "      <td>436.164062</td>\n",
       "    </tr>\n",
       "  </tbody>\n",
       "</table>\n",
       "</div>"
      ],
      "text/plain": [
       "                                                    Number Tested  \\\n",
       "School Name                                                         \n",
       "A.C.E. ACADEMY FOR SCHOLARS AT THE GERALDINE FERRA          17057   \n",
       "ACADEMY FOR COLLEGE PREPARATION AND CAREER EXPLORA          11024   \n",
       "ACADEMY FOR NEW AMERICANS                                    3849   \n",
       "ACADEMY FOR PERSONAL LEADERSHIP AND EXCELLENCE              47214   \n",
       "ACADEMY FOR YOUNG WRITERS                                   13029   \n",
       "\n",
       "                                                    Mean Scale Score  \n",
       "School Name                                                           \n",
       "A.C.E. ACADEMY FOR SCHOLARS AT THE GERALDINE FERRA        459.882911  \n",
       "ACADEMY FOR COLLEGE PREPARATION AND CAREER EXPLORA        422.003663  \n",
       "ACADEMY FOR NEW AMERICANS                                 352.265306  \n",
       "ACADEMY FOR PERSONAL LEADERSHIP AND EXCELLENCE            416.742424  \n",
       "ACADEMY FOR YOUNG WRITERS                                 436.164062  "
      ]
     },
     "execution_count": 17,
     "metadata": {},
     "output_type": "execute_result"
    }
   ],
   "source": [
    "ela_scores.head()"
   ]
  },
  {
   "cell_type": "code",
   "execution_count": 30,
   "id": "e1d64e07-5569-45b8-9cda-d625f78b019a",
   "metadata": {},
   "outputs": [],
   "source": [
    "# Save to a file\n",
    "ela_scores.to_csv(\"../data/processed/ela_scores_processed.csv\", index=True)\n"
   ]
  },
  {
   "cell_type": "markdown",
   "id": "0387212f-2655-4b20-8aff-891196877079",
   "metadata": {},
   "source": [
    "# Math Test Results from 2013 to 2023\n",
    "Source: NYC Open Data"
   ]
  },
  {
   "cell_type": "markdown",
   "id": "0f52349d-9cb3-4702-a181-fa95913ffcdf",
   "metadata": {},
   "source": [
    "Let's perform data cleaning similar to the one we did with ELA Test Scores dataset."
   ]
  },
  {
   "cell_type": "code",
   "execution_count": 13,
   "id": "4aac7549-d9f4-4748-a4b2-0c85c2ca5523",
   "metadata": {},
   "outputs": [],
   "source": [
    "math_scores = pd.read_csv(\"../data/raw/Math_Test_Results_2013-2023_20250902.csv\")"
   ]
  },
  {
   "cell_type": "code",
   "execution_count": 14,
   "id": "496c1501-21f6-434c-bea4-741fe77c53cc",
   "metadata": {},
   "outputs": [
    {
     "data": {
      "text/html": [
       "<div>\n",
       "<style scoped>\n",
       "    .dataframe tbody tr th:only-of-type {\n",
       "        vertical-align: middle;\n",
       "    }\n",
       "\n",
       "    .dataframe tbody tr th {\n",
       "        vertical-align: top;\n",
       "    }\n",
       "\n",
       "    .dataframe thead th {\n",
       "        text-align: right;\n",
       "    }\n",
       "</style>\n",
       "<table border=\"1\" class=\"dataframe\">\n",
       "  <thead>\n",
       "    <tr style=\"text-align: right;\">\n",
       "      <th></th>\n",
       "      <th>Report Category</th>\n",
       "      <th>Geographic Subdivision</th>\n",
       "      <th>School Name</th>\n",
       "      <th>Grade</th>\n",
       "      <th>Year</th>\n",
       "      <th>Student Category</th>\n",
       "      <th>Number Tested</th>\n",
       "      <th>Mean Scale Score</th>\n",
       "      <th>Num Level 1</th>\n",
       "      <th>Pct Level 1</th>\n",
       "      <th>Num Level 2</th>\n",
       "      <th>Pct Level 2</th>\n",
       "      <th>Num Level 3</th>\n",
       "      <th>Pct Level 3</th>\n",
       "      <th>Num Level 4</th>\n",
       "      <th>Pct Level 4</th>\n",
       "      <th>Num Level 3 and 4</th>\n",
       "      <th>Pct Level 3 and 4</th>\n",
       "    </tr>\n",
       "  </thead>\n",
       "  <tbody>\n",
       "    <tr>\n",
       "      <th>0</th>\n",
       "      <td>Citywide</td>\n",
       "      <td>Citywide</td>\n",
       "      <td>NaN</td>\n",
       "      <td>3</td>\n",
       "      <td>2023</td>\n",
       "      <td>All Students</td>\n",
       "      <td>51866</td>\n",
       "      <td>454</td>\n",
       "      <td>8193</td>\n",
       "      <td>15.8</td>\n",
       "      <td>15155</td>\n",
       "      <td>29.2</td>\n",
       "      <td>18037</td>\n",
       "      <td>34.8</td>\n",
       "      <td>10481</td>\n",
       "      <td>20.2</td>\n",
       "      <td>28518</td>\n",
       "      <td>55.0</td>\n",
       "    </tr>\n",
       "    <tr>\n",
       "      <th>1</th>\n",
       "      <td>Citywide</td>\n",
       "      <td>Citywide</td>\n",
       "      <td>NaN</td>\n",
       "      <td>4</td>\n",
       "      <td>2023</td>\n",
       "      <td>All Students</td>\n",
       "      <td>53195</td>\n",
       "      <td>453</td>\n",
       "      <td>13460</td>\n",
       "      <td>25.3</td>\n",
       "      <td>11898</td>\n",
       "      <td>22.4</td>\n",
       "      <td>18201</td>\n",
       "      <td>34.2</td>\n",
       "      <td>9636</td>\n",
       "      <td>18.1</td>\n",
       "      <td>27837</td>\n",
       "      <td>52.3</td>\n",
       "    </tr>\n",
       "    <tr>\n",
       "      <th>2</th>\n",
       "      <td>Citywide</td>\n",
       "      <td>Citywide</td>\n",
       "      <td>NaN</td>\n",
       "      <td>5</td>\n",
       "      <td>2023</td>\n",
       "      <td>All Students</td>\n",
       "      <td>55137</td>\n",
       "      <td>452</td>\n",
       "      <td>15055</td>\n",
       "      <td>27.3</td>\n",
       "      <td>12241</td>\n",
       "      <td>22.2</td>\n",
       "      <td>17086</td>\n",
       "      <td>31.0</td>\n",
       "      <td>10755</td>\n",
       "      <td>19.5</td>\n",
       "      <td>27841</td>\n",
       "      <td>50.5</td>\n",
       "    </tr>\n",
       "    <tr>\n",
       "      <th>3</th>\n",
       "      <td>Citywide</td>\n",
       "      <td>Citywide</td>\n",
       "      <td>NaN</td>\n",
       "      <td>6</td>\n",
       "      <td>2023</td>\n",
       "      <td>All Students</td>\n",
       "      <td>53519</td>\n",
       "      <td>450</td>\n",
       "      <td>16049</td>\n",
       "      <td>30.0</td>\n",
       "      <td>13094</td>\n",
       "      <td>24.5</td>\n",
       "      <td>15880</td>\n",
       "      <td>29.7</td>\n",
       "      <td>8496</td>\n",
       "      <td>15.9</td>\n",
       "      <td>24376</td>\n",
       "      <td>45.5</td>\n",
       "    </tr>\n",
       "    <tr>\n",
       "      <th>4</th>\n",
       "      <td>Citywide</td>\n",
       "      <td>Citywide</td>\n",
       "      <td>NaN</td>\n",
       "      <td>7</td>\n",
       "      <td>2023</td>\n",
       "      <td>All Students</td>\n",
       "      <td>54141</td>\n",
       "      <td>454</td>\n",
       "      <td>11723</td>\n",
       "      <td>21.7</td>\n",
       "      <td>14693</td>\n",
       "      <td>27.1</td>\n",
       "      <td>14445</td>\n",
       "      <td>26.7</td>\n",
       "      <td>13280</td>\n",
       "      <td>24.5</td>\n",
       "      <td>27725</td>\n",
       "      <td>51.2</td>\n",
       "    </tr>\n",
       "  </tbody>\n",
       "</table>\n",
       "</div>"
      ],
      "text/plain": [
       "  Report Category Geographic Subdivision School Name Grade  Year  \\\n",
       "0        Citywide               Citywide         NaN     3  2023   \n",
       "1        Citywide               Citywide         NaN     4  2023   \n",
       "2        Citywide               Citywide         NaN     5  2023   \n",
       "3        Citywide               Citywide         NaN     6  2023   \n",
       "4        Citywide               Citywide         NaN     7  2023   \n",
       "\n",
       "  Student Category  Number Tested Mean Scale Score Num Level 1 Pct Level 1  \\\n",
       "0     All Students          51866              454        8193        15.8   \n",
       "1     All Students          53195              453       13460        25.3   \n",
       "2     All Students          55137              452       15055        27.3   \n",
       "3     All Students          53519              450       16049        30.0   \n",
       "4     All Students          54141              454       11723        21.7   \n",
       "\n",
       "  Num Level 2 Pct Level 2 Num Level 3 Pct Level 3 Num Level 4 Pct Level 4  \\\n",
       "0       15155        29.2       18037        34.8       10481        20.2   \n",
       "1       11898        22.4       18201        34.2        9636        18.1   \n",
       "2       12241        22.2       17086        31.0       10755        19.5   \n",
       "3       13094        24.5       15880        29.7        8496        15.9   \n",
       "4       14693        27.1       14445        26.7       13280        24.5   \n",
       "\n",
       "  Num Level 3 and 4 Pct Level 3 and 4  \n",
       "0             28518              55.0  \n",
       "1             27837              52.3  \n",
       "2             27841              50.5  \n",
       "3             24376              45.5  \n",
       "4             27725              51.2  "
      ]
     },
     "execution_count": 14,
     "metadata": {},
     "output_type": "execute_result"
    }
   ],
   "source": [
    "math_scores.head()"
   ]
  },
  {
   "cell_type": "code",
   "execution_count": 15,
   "id": "850ce4ab-1c2d-472a-8bf4-0977eec156db",
   "metadata": {},
   "outputs": [
    {
     "name": "stdout",
     "output_type": "stream",
     "text": [
      "<class 'pandas.core.frame.DataFrame'>\n",
      "RangeIndex: 624572 entries, 0 to 624571\n",
      "Data columns (total 18 columns):\n",
      " #   Column                  Non-Null Count   Dtype \n",
      "---  ------                  --------------   ----- \n",
      " 0   Report Category         624572 non-null  object\n",
      " 1   Geographic Subdivision  624572 non-null  object\n",
      " 2   School Name             586383 non-null  object\n",
      " 3   Grade                   624572 non-null  object\n",
      " 4   Year                    624572 non-null  int64 \n",
      " 5   Student Category        624572 non-null  object\n",
      " 6   Number Tested           624572 non-null  int64 \n",
      " 7   Mean Scale Score        624572 non-null  object\n",
      " 8   Num Level 1             624572 non-null  object\n",
      " 9   Pct Level 1             624572 non-null  object\n",
      " 10  Num Level 2             624572 non-null  object\n",
      " 11  Pct Level 2             624572 non-null  object\n",
      " 12  Num Level 3             624572 non-null  object\n",
      " 13  Pct Level 3             624572 non-null  object\n",
      " 14  Num Level 4             624572 non-null  object\n",
      " 15  Pct Level 4             624572 non-null  object\n",
      " 16  Num Level 3 and 4       624572 non-null  object\n",
      " 17  Pct Level 3 and 4       624572 non-null  object\n",
      "dtypes: int64(2), object(16)\n",
      "memory usage: 85.8+ MB\n"
     ]
    }
   ],
   "source": [
    "math_scores.info()"
   ]
  },
  {
   "cell_type": "markdown",
   "id": "e1a6954d-868b-4c66-bcea-fd3f34ca2627",
   "metadata": {},
   "source": [
    "All categories except \"School Name\" are filled with non-null values. Since we are attempting to analyze school-specific data, we will drop the rows containing null values."
   ]
  },
  {
   "cell_type": "code",
   "execution_count": 19,
   "id": "0b3b75c3-7deb-499e-b6ba-5466435cbda1",
   "metadata": {},
   "outputs": [],
   "source": [
    "math_scores = math_scores.dropna()"
   ]
  },
  {
   "cell_type": "code",
   "execution_count": 20,
   "id": "b7e248d2-e006-4794-983a-829bc658ce47",
   "metadata": {},
   "outputs": [
    {
     "name": "stdout",
     "output_type": "stream",
     "text": [
      "<class 'pandas.core.frame.DataFrame'>\n",
      "Index: 586383 entries, 46 to 624571\n",
      "Data columns (total 18 columns):\n",
      " #   Column                  Non-Null Count   Dtype \n",
      "---  ------                  --------------   ----- \n",
      " 0   Report Category         586383 non-null  object\n",
      " 1   Geographic Subdivision  586383 non-null  object\n",
      " 2   School Name             586383 non-null  object\n",
      " 3   Grade                   586383 non-null  object\n",
      " 4   Year                    586383 non-null  int64 \n",
      " 5   Student Category        586383 non-null  object\n",
      " 6   Number Tested           586383 non-null  int64 \n",
      " 7   Mean Scale Score        586383 non-null  object\n",
      " 8   Num Level 1             586383 non-null  object\n",
      " 9   Pct Level 1             586383 non-null  object\n",
      " 10  Num Level 2             586383 non-null  object\n",
      " 11  Pct Level 2             586383 non-null  object\n",
      " 12  Num Level 3             586383 non-null  object\n",
      " 13  Pct Level 3             586383 non-null  object\n",
      " 14  Num Level 4             586383 non-null  object\n",
      " 15  Pct Level 4             586383 non-null  object\n",
      " 16  Num Level 3 and 4       586383 non-null  object\n",
      " 17  Pct Level 3 and 4       586383 non-null  object\n",
      "dtypes: int64(2), object(16)\n",
      "memory usage: 85.0+ MB\n"
     ]
    }
   ],
   "source": [
    "math_scores.info()"
   ]
  },
  {
   "cell_type": "markdown",
   "id": "4db6690a-85b5-424c-8728-3cde7ac997fb",
   "metadata": {},
   "source": [
    "For the Math Test Scores data, we have 586,383 rows with non-null values. Next, we will drop columns that we won't be using for our analysis, for example, the report category, number and percentage levels."
   ]
  },
  {
   "cell_type": "code",
   "execution_count": 21,
   "id": "86bec0fc-27b1-4b6c-8744-4c3bd572ce75",
   "metadata": {},
   "outputs": [],
   "source": [
    "math_scores = math_scores.drop(columns=[\"Report Category\", \n",
    "                                      \"Geographic Subdivision\", \n",
    "                                      \"Grade\",\n",
    "                                      \"Num Level 1\", \n",
    "                                      \"Pct Level 1\",\n",
    "                                      \"Num Level 2\", \n",
    "                                      \"Pct Level 2\",\n",
    "                                      \"Num Level 3\", \n",
    "                                      \"Pct Level 3\",\n",
    "                                      \"Num Level 4\", \n",
    "                                      \"Pct Level 4\",\n",
    "                                      \"Num Level 3 and 4\", \n",
    "                                      \"Pct Level 3 and 4\",\n",
    "                                     ])"
   ]
  },
  {
   "cell_type": "code",
   "execution_count": 22,
   "id": "5bddfdbb-add5-46f9-a5af-3868f25fb8f5",
   "metadata": {},
   "outputs": [
    {
     "data": {
      "text/html": [
       "<div>\n",
       "<style scoped>\n",
       "    .dataframe tbody tr th:only-of-type {\n",
       "        vertical-align: middle;\n",
       "    }\n",
       "\n",
       "    .dataframe tbody tr th {\n",
       "        vertical-align: top;\n",
       "    }\n",
       "\n",
       "    .dataframe thead th {\n",
       "        text-align: right;\n",
       "    }\n",
       "</style>\n",
       "<table border=\"1\" class=\"dataframe\">\n",
       "  <thead>\n",
       "    <tr style=\"text-align: right;\">\n",
       "      <th></th>\n",
       "      <th>School Name</th>\n",
       "      <th>Year</th>\n",
       "      <th>Student Category</th>\n",
       "      <th>Number Tested</th>\n",
       "      <th>Mean Scale Score</th>\n",
       "    </tr>\n",
       "  </thead>\n",
       "  <tbody>\n",
       "    <tr>\n",
       "      <th>624567</th>\n",
       "      <td>BRONX CHARTER SCHOOL FOR THE ARTS</td>\n",
       "      <td>2015</td>\n",
       "      <td>All Students</td>\n",
       "      <td>142</td>\n",
       "      <td>323</td>\n",
       "    </tr>\n",
       "    <tr>\n",
       "      <th>624568</th>\n",
       "      <td>BRONX CHARTER SCHOOL FOR THE ARTS</td>\n",
       "      <td>2016</td>\n",
       "      <td>All Students</td>\n",
       "      <td>143</td>\n",
       "      <td>320</td>\n",
       "    </tr>\n",
       "    <tr>\n",
       "      <th>624569</th>\n",
       "      <td>BRONX CHARTER SCHOOL FOR THE ARTS</td>\n",
       "      <td>2017</td>\n",
       "      <td>All Students</td>\n",
       "      <td>142</td>\n",
       "      <td>321</td>\n",
       "    </tr>\n",
       "    <tr>\n",
       "      <th>624570</th>\n",
       "      <td>BRONX CHARTER SCHOOL FOR THE ARTS</td>\n",
       "      <td>2018</td>\n",
       "      <td>All Students</td>\n",
       "      <td>144</td>\n",
       "      <td>604</td>\n",
       "    </tr>\n",
       "    <tr>\n",
       "      <th>624571</th>\n",
       "      <td>BRONX CHARTER SCHOOL FOR THE ARTS</td>\n",
       "      <td>2019</td>\n",
       "      <td>All Students</td>\n",
       "      <td>261</td>\n",
       "      <td>597</td>\n",
       "    </tr>\n",
       "  </tbody>\n",
       "</table>\n",
       "</div>"
      ],
      "text/plain": [
       "                              School Name  Year Student Category  \\\n",
       "624567  BRONX CHARTER SCHOOL FOR THE ARTS  2015     All Students   \n",
       "624568  BRONX CHARTER SCHOOL FOR THE ARTS  2016     All Students   \n",
       "624569  BRONX CHARTER SCHOOL FOR THE ARTS  2017     All Students   \n",
       "624570  BRONX CHARTER SCHOOL FOR THE ARTS  2018     All Students   \n",
       "624571  BRONX CHARTER SCHOOL FOR THE ARTS  2019     All Students   \n",
       "\n",
       "        Number Tested Mean Scale Score  \n",
       "624567            142              323  \n",
       "624568            143              320  \n",
       "624569            142              321  \n",
       "624570            144              604  \n",
       "624571            261              597  "
      ]
     },
     "execution_count": 22,
     "metadata": {},
     "output_type": "execute_result"
    }
   ],
   "source": [
    "math_scores.tail()"
   ]
  },
  {
   "cell_type": "code",
   "execution_count": 23,
   "id": "a437aaa8-2b7a-41b3-945a-cf695359f5be",
   "metadata": {},
   "outputs": [
    {
     "data": {
      "text/plain": [
       "array(['s', 's', 's', ..., '321', '604', '597'],\n",
       "      shape=(586383,), dtype=object)"
      ]
     },
     "execution_count": 23,
     "metadata": {},
     "output_type": "execute_result"
    }
   ],
   "source": [
    "math_scores[\"Mean Scale Score\"].values"
   ]
  },
  {
   "cell_type": "markdown",
   "id": "e8d3f060-4a00-4a75-ad1c-5ac7599c415a",
   "metadata": {},
   "source": [
    "At this point, we can see **several problems** with the dataset.\n",
    "1. The \"Mean Scale Score\" row contains non-number values like 's'. Such rows should be removed from the analysis. \n",
    "\n",
    "2. Since the dataset contains Math test scores from 2013 to 2023, each school repeats up to 11 times. We need to find the mean score for each school across the scores from 2013 and 2023 and aggregate it into a single row."
   ]
  },
  {
   "cell_type": "code",
   "execution_count": 24,
   "id": "1d577c75-e8c6-4754-af38-0d7822c8c2fd",
   "metadata": {},
   "outputs": [],
   "source": [
    "# Convert column to numeric, invalid entries become NaN\n",
    "math_scores[\"Mean Scale Score\"] = pd.to_numeric(math_scores[\"Mean Scale Score\"], errors=\"coerce\")\n",
    "\n",
    "math_scores = math_scores.dropna()"
   ]
  },
  {
   "cell_type": "code",
   "execution_count": 25,
   "id": "17054498-eb38-41c6-b508-e4ab6609058b",
   "metadata": {},
   "outputs": [],
   "source": [
    "math_scores = math_scores.groupby(\"School Name\", as_index=True).agg({\n",
    "    \"Number Tested\": \"sum\",\n",
    "    \"Mean Scale Score\": \"mean\"\n",
    "})"
   ]
  },
  {
   "cell_type": "code",
   "execution_count": 26,
   "id": "9a5887fe-8c0c-441c-9a27-1967fe971fd4",
   "metadata": {},
   "outputs": [
    {
     "data": {
      "text/html": [
       "<div>\n",
       "<style scoped>\n",
       "    .dataframe tbody tr th:only-of-type {\n",
       "        vertical-align: middle;\n",
       "    }\n",
       "\n",
       "    .dataframe tbody tr th {\n",
       "        vertical-align: top;\n",
       "    }\n",
       "\n",
       "    .dataframe thead th {\n",
       "        text-align: right;\n",
       "    }\n",
       "</style>\n",
       "<table border=\"1\" class=\"dataframe\">\n",
       "  <thead>\n",
       "    <tr style=\"text-align: right;\">\n",
       "      <th></th>\n",
       "      <th>Number Tested</th>\n",
       "      <th>Mean Scale Score</th>\n",
       "    </tr>\n",
       "    <tr>\n",
       "      <th>School Name</th>\n",
       "      <th></th>\n",
       "      <th></th>\n",
       "    </tr>\n",
       "  </thead>\n",
       "  <tbody>\n",
       "    <tr>\n",
       "      <th>A.C.E. ACADEMY FOR SCHOLARS AT THE GERALDINE FERRA</th>\n",
       "      <td>17371</td>\n",
       "      <td>460.314815</td>\n",
       "    </tr>\n",
       "    <tr>\n",
       "      <th>ACADEMIC LEADERSHIP CHARTER SCHOOL</th>\n",
       "      <td>3478</td>\n",
       "      <td>426.153846</td>\n",
       "    </tr>\n",
       "    <tr>\n",
       "      <th>ACADEMY FOR COLLEGE PREPARATION AND CAREER EXPLORA</th>\n",
       "      <td>11019</td>\n",
       "      <td>416.498182</td>\n",
       "    </tr>\n",
       "    <tr>\n",
       "      <th>ACADEMY FOR NEW AMERICANS</th>\n",
       "      <td>13867</td>\n",
       "      <td>391.558233</td>\n",
       "    </tr>\n",
       "    <tr>\n",
       "      <th>ACADEMY FOR PERSONAL LEADERSHIP AND EXCELLENCE</th>\n",
       "      <td>48644</td>\n",
       "      <td>409.538847</td>\n",
       "    </tr>\n",
       "  </tbody>\n",
       "</table>\n",
       "</div>"
      ],
      "text/plain": [
       "                                                    Number Tested  \\\n",
       "School Name                                                         \n",
       "A.C.E. ACADEMY FOR SCHOLARS AT THE GERALDINE FERRA          17371   \n",
       "ACADEMIC LEADERSHIP CHARTER SCHOOL                           3478   \n",
       "ACADEMY FOR COLLEGE PREPARATION AND CAREER EXPLORA          11019   \n",
       "ACADEMY FOR NEW AMERICANS                                   13867   \n",
       "ACADEMY FOR PERSONAL LEADERSHIP AND EXCELLENCE              48644   \n",
       "\n",
       "                                                    Mean Scale Score  \n",
       "School Name                                                           \n",
       "A.C.E. ACADEMY FOR SCHOLARS AT THE GERALDINE FERRA        460.314815  \n",
       "ACADEMIC LEADERSHIP CHARTER SCHOOL                        426.153846  \n",
       "ACADEMY FOR COLLEGE PREPARATION AND CAREER EXPLORA        416.498182  \n",
       "ACADEMY FOR NEW AMERICANS                                 391.558233  \n",
       "ACADEMY FOR PERSONAL LEADERSHIP AND EXCELLENCE            409.538847  "
      ]
     },
     "execution_count": 26,
     "metadata": {},
     "output_type": "execute_result"
    }
   ],
   "source": [
    "math_scores.head()"
   ]
  },
  {
   "cell_type": "code",
   "execution_count": 31,
   "id": "64e7d5f1-3e1b-4148-b85d-a5232275a51d",
   "metadata": {},
   "outputs": [],
   "source": [
    "# Save to a file\n",
    "math_scores.to_csv(\"../data/processed/math_scores_processed.csv\", index=True)\n"
   ]
  },
  {
   "cell_type": "code",
   "execution_count": null,
   "id": "74745f82-23b3-42bc-8e7f-21de105b532f",
   "metadata": {},
   "outputs": [],
   "source": []
  }
 ],
 "metadata": {
  "kernelspec": {
   "display_name": "Python 3 (ipykernel)",
   "language": "python",
   "name": "python3"
  },
  "language_info": {
   "codemirror_mode": {
    "name": "ipython",
    "version": 3
   },
   "file_extension": ".py",
   "mimetype": "text/x-python",
   "name": "python",
   "nbconvert_exporter": "python",
   "pygments_lexer": "ipython3",
   "version": "3.11.13"
  }
 },
 "nbformat": 4,
 "nbformat_minor": 5
}
